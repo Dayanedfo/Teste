{
 "cells": [
  {
   "cell_type": "markdown",
   "id": "4a14253a",
   "metadata": {},
   "source": [
    "# "
   ]
  },
  {
   "cell_type": "code",
   "execution_count": null,
   "id": "f8a46ea1",
   "metadata": {},
   "outputs": [],
   "source": [
    "#import libraries and packages"
   ]
  },
  {
   "cell_type": "code",
   "execution_count": 9,
   "id": "428cbd86",
   "metadata": {},
   "outputs": [],
   "source": [
    "import pandas as pd\n",
    "import pandasql as ps\n",
    "import numpy as np"
   ]
  },
  {
   "cell_type": "code",
   "execution_count": 10,
   "id": "28fbdf7b",
   "metadata": {},
   "outputs": [
    {
     "name": "stdout",
     "output_type": "stream",
     "text": [
      "Requirement already satisfied: pandasql in d:\\users\\dayanef\\anaconda3\\lib\\site-packages (0.7.3)\n",
      "Requirement already satisfied: sqlalchemy in d:\\users\\dayanef\\anaconda3\\lib\\site-packages (from pandasql) (1.4.7)\n",
      "Requirement already satisfied: numpy in d:\\users\\dayanef\\anaconda3\\lib\\site-packages (from pandasql) (1.20.1)\n",
      "Requirement already satisfied: pandas in d:\\users\\dayanef\\anaconda3\\lib\\site-packages (from pandasql) (1.2.4)\n",
      "Requirement already satisfied: python-dateutil>=2.7.3 in d:\\users\\dayanef\\anaconda3\\lib\\site-packages (from pandas->pandasql) (2.8.1)\n",
      "Requirement already satisfied: pytz>=2017.3 in d:\\users\\dayanef\\anaconda3\\lib\\site-packages (from pandas->pandasql) (2021.1)Note: you may need to restart the kernel to use updated packages.\n",
      "\n",
      "Requirement already satisfied: six>=1.5 in d:\\users\\dayanef\\anaconda3\\lib\\site-packages (from python-dateutil>=2.7.3->pandas->pandasql) (1.15.0)\n",
      "Requirement already satisfied: greenlet!=0.4.17 in d:\\users\\dayanef\\anaconda3\\lib\\site-packages (from sqlalchemy->pandasql) (1.0.0)\n"
     ]
    }
   ],
   "source": [
    "pip install -U pandasql"
   ]
  },
  {
   "cell_type": "code",
   "execution_count": null,
   "id": "732fc5ec",
   "metadata": {},
   "outputs": [],
   "source": [
    "#read excel file"
   ]
  },
  {
   "cell_type": "code",
   "execution_count": 11,
   "id": "34b30bad",
   "metadata": {},
   "outputs": [],
   "source": [
    "file_csv = pd.read_excel(r\"D:\\Users\\dayanef\\Downloads\\Sales of diesel by UF and type.xlsx\")"
   ]
  },
  {
   "cell_type": "code",
   "execution_count": null,
   "id": "9792dd67",
   "metadata": {},
   "outputs": [],
   "source": [
    "#create dataframe to convert UF"
   ]
  },
  {
   "cell_type": "code",
   "execution_count": 12,
   "id": "9393afcc",
   "metadata": {},
   "outputs": [],
   "source": [
    "siglas_uf = pd.DataFrame(data=np.array([['AC', 'ACRE'], ['AL', 'ALAGOAS'], ['AP', 'AMAPÁ'], ['AM', 'AMAZONAS'], ['BA', 'BAHIA'], ['CE', 'CEARÁ'], ['DF', 'DISTRITO FEDERAL'], ['ES', 'ESPÍRITO SANTO'], ['GO', 'GOIÁS'], ['MA', 'MARANHÃO'], ['MT', 'MATO GROSSO'], ['MS', 'MATO GROSSO DO SUL'], ['MG', 'MINAS GERAIS'], ['PA', 'PARÁ'], ['PB', 'PARAÍBA'], ['PR', 'PARANÁ'], ['PE', 'PERNAMBUCO'], ['PI', 'PIAUÍ'], ['RJ', 'RIO DE JANEIRO'], ['RN', 'RIO GRANDE DO NORTE'], ['RS', 'RIO GRANDE DO SUL'], ['RO', 'RONDÔNIA'], ['RR', 'RORAIMA'], ['SC', 'SANTA CATARINA'], ['SP', 'SÃO PAULO'], ['SE', 'SERGIPE'], ['TO', 'TOCANTINS']]),columns=['UF', 'ESTADO'])"
   ]
  },
  {
   "cell_type": "code",
   "execution_count": null,
   "id": "20e7a2ec",
   "metadata": {},
   "outputs": [],
   "source": [
    "#create dataframe using excel file"
   ]
  },
  {
   "cell_type": "code",
   "execution_count": 13,
   "id": "57b9d360",
   "metadata": {},
   "outputs": [],
   "source": [
    "df = ps.sqldf(\"\"\"\n",
    "        SELECT year_month,\n",
    "               UF as uf,\n",
    "               product,\n",
    "               unit,\n",
    "               volume,  \n",
    "               created_at\n",
    "        FROM (\n",
    "            SELECT      ANO || \"-01\" as year_month,\n",
    "                        ESTADO, \n",
    "                        COMBUSTÍVEL as product,\n",
    "                        UNIDADE as unit,\n",
    "                        Jan as volume,\n",
    "                        CURRENT_TIMESTAMP as created_at\n",
    "            FROM file_csv\n",
    "                       \n",
    "            UNION ALL\n",
    "            \n",
    "            SELECT      ANO || \"-02\" as year_month,\n",
    "                        ESTADO, \n",
    "                        COMBUSTÍVEL as product,\n",
    "                        UNIDADE as unit,\n",
    "                        Fev as volume,\n",
    "                        CURRENT_TIMESTAMP as created_at\n",
    "            FROM file_csv  \n",
    "                        \n",
    "            UNION ALL\n",
    "            \n",
    "            SELECT      ANO || \"-03\" as year_month,\n",
    "                        ESTADO, \n",
    "                        COMBUSTÍVEL as product,\n",
    "                        UNIDADE as unit,\n",
    "                        Mar as volume,\n",
    "                        CURRENT_TIMESTAMP as created_at\n",
    "            FROM file_csv                         \n",
    "            \n",
    "            UNION ALL\n",
    "            \n",
    "            SELECT      ANO || \"-04\" as year_month,\n",
    "                        ESTADO,  \n",
    "                        COMBUSTÍVEL as product,\n",
    "                        UNIDADE as unit,\n",
    "                        Abr as volume,\n",
    "                        CURRENT_TIMESTAMP as created_at\n",
    "            FROM file_csv                        \n",
    "            \n",
    "            UNION ALL\n",
    "            \n",
    "            SELECT      ANO || \"-05\" as year_month,\n",
    "                        ESTADO, \n",
    "                        COMBUSTÍVEL as product,\n",
    "                        UNIDADE as unit,\n",
    "                        Mai as volume,\n",
    "                        CURRENT_TIMESTAMP as created_at\n",
    "            FROM file_csv                         \n",
    "            \n",
    "            UNION ALL\n",
    "            \n",
    "            SELECT      ANO || \"-06\" as year_month,\n",
    "                        ESTADO, \n",
    "                        COMBUSTÍVEL as product,\n",
    "                        UNIDADE as unit,\n",
    "                        Jun as volume,\n",
    "                        CURRENT_TIMESTAMP as created_at\n",
    "            FROM file_csv                         \n",
    "            \n",
    "            UNION ALL\n",
    "            \n",
    "            SELECT      ANO || \"-07\" as year_month,\n",
    "                        ESTADO, \n",
    "                        COMBUSTÍVEL as product,\n",
    "                        UNIDADE as unit,\n",
    "                        Jul as volume,\n",
    "                        CURRENT_TIMESTAMP as created_at\n",
    "            FROM file_csv                         \n",
    "            \n",
    "            UNION ALL\n",
    "            \n",
    "            SELECT      ANO || \"-08\" as year_month,\n",
    "                        ESTADO, \n",
    "                        COMBUSTÍVEL as product,\n",
    "                        UNIDADE as unit,\n",
    "                        Ago as volume,\n",
    "                        CURRENT_TIMESTAMP as created_at\n",
    "            FROM file_csv                        \n",
    "            \n",
    "            UNION ALL\n",
    "            \n",
    "            SELECT      ANO || \"-09\" as year_month,\n",
    "                        ESTADO, \n",
    "                        COMBUSTÍVEL as product,\n",
    "                        UNIDADE as unit,\n",
    "                        [Set] as volume,\n",
    "                        CURRENT_TIMESTAMP as created_at\n",
    "            FROM file_csv            \n",
    "             UNION ALL\n",
    "            \n",
    "            SELECT      ANO || \"-10\" as year_month,\n",
    "                        ESTADO, \n",
    "                        COMBUSTÍVEL as product,\n",
    "                        UNIDADE as unit,\n",
    "                        Out as volume,\n",
    "                        CURRENT_TIMESTAMP as created_at\n",
    "            FROM file_csv                        \n",
    "            \n",
    "            UNION ALL\n",
    "            \n",
    "            SELECT      ANO || \"-11\" as year_month,\n",
    "                        ESTADO, \n",
    "                        COMBUSTÍVEL as product,\n",
    "                        UNIDADE as unit,\n",
    "                        Nov as volume,\n",
    "                        CURRENT_TIMESTAMP as created_at\n",
    "            FROM file_csv                         \n",
    "            \n",
    "            UNION ALL\n",
    "            \n",
    "            SELECT      ANO || \"-12\" as year_month,\n",
    "                        ESTADO,  \n",
    "                        COMBUSTÍVEL as product,\n",
    "                        UNIDADE as unit,\n",
    "                        Dez as volume,\n",
    "                        CURRENT_TIMESTAMP as created_at\n",
    "            FROM file_csv ) A\n",
    "            LEFT JOIN siglas_uf B\n",
    "                 ON A.ESTADO = B.ESTADO \"\"\")  "
   ]
  },
  {
   "cell_type": "code",
   "execution_count": null,
   "id": "3f3a8ebb",
   "metadata": {},
   "outputs": [],
   "source": [
    "#save the staging table"
   ]
  },
  {
   "cell_type": "code",
   "execution_count": null,
   "id": "b44adc9b",
   "metadata": {},
   "outputs": [],
   "source": [
    "jdbcUrl = 'jdbc:sqlserver://xxxx;database=xxxx;user=xxxx;password=xxxx;encrypt=true;trustServerCertificate=false;hostNameInCertificate=xxx;loginTimeout=60;'\n",
    "  \n",
    "df.write\\\n",
    "  .format(\"jdbc\")\\\n",
    "  .mode(\"overwrite\")\\\n",
    "  .option(\"url\", jdbcUrl)\\\n",
    "  .option(\"dbtable\", \"staging.anp\")\\\n",
    "  .save()"
   ]
  },
  {
   "cell_type": "code",
   "execution_count": null,
   "id": "17defc6d",
   "metadata": {},
   "outputs": [],
   "source": [
    "#check data consistent"
   ]
  },
  {
   "cell_type": "code",
   "execution_count": null,
   "id": "8980b532",
   "metadata": {},
   "outputs": [],
   "source": [
    "df.count()"
   ]
  },
  {
   "cell_type": "code",
   "execution_count": null,
   "id": "64bb1500",
   "metadata": {},
   "outputs": [],
   "source": [
    "df.describe()"
   ]
  },
  {
   "cell_type": "code",
   "execution_count": null,
   "id": "f04b5441",
   "metadata": {},
   "outputs": [],
   "source": [
    "table = pd.pivot_table (df, index = \"year_month\", columns = \"product\", values = \"volume\", aggfunc = \"sum\")\n",
    "print(table)"
   ]
  }
 ],
 "metadata": {
  "kernelspec": {
   "display_name": "Python 3",
   "language": "python",
   "name": "python3"
  },
  "language_info": {
   "codemirror_mode": {
    "name": "ipython",
    "version": 3
   },
   "file_extension": ".py",
   "mimetype": "text/x-python",
   "name": "python",
   "nbconvert_exporter": "python",
   "pygments_lexer": "ipython3",
   "version": "3.8.8"
  }
 },
 "nbformat": 4,
 "nbformat_minor": 5
}
