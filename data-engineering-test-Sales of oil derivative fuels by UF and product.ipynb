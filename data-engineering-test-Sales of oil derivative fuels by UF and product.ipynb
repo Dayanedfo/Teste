{
 "cells": [
  {
   "cell_type": "code",
   "execution_count": null,
   "id": "0867f924",
   "metadata": {},
   "outputs": [],
   "source": [
    "#import libraries and packages"
   ]
  },
  {
   "cell_type": "code",
   "execution_count": 2,
   "id": "428cbd86",
   "metadata": {},
   "outputs": [],
   "source": [
    "import pandas as pd\n",
    "import pandasql as ps\n",
    "import numpy as np"
   ]
  },
  {
   "cell_type": "code",
   "execution_count": 3,
   "id": "28fbdf7b",
   "metadata": {},
   "outputs": [
    {
     "name": "stdout",
     "output_type": "stream",
     "text": [
      "Requirement already satisfied: pandasql in d:\\users\\dayanef\\anaconda3\\lib\\site-packages (0.7.3)\n",
      "Requirement already satisfied: pandas in d:\\users\\dayanef\\anaconda3\\lib\\site-packages (from pandasql) (1.2.4)\n",
      "Requirement already satisfied: numpy in d:\\users\\dayanef\\anaconda3\\lib\\site-packages (from pandasql) (1.20.1)\n",
      "Requirement already satisfied: sqlalchemy in d:\\users\\dayanef\\anaconda3\\lib\\site-packages (from pandasql) (1.4.7)\n",
      "Requirement already satisfied: python-dateutil>=2.7.3 in d:\\users\\dayanef\\anaconda3\\lib\\site-packages (from pandas->pandasql) (2.8.1)\n",
      "Requirement already satisfied: pytz>=2017.3 in d:\\users\\dayanef\\anaconda3\\lib\\site-packages (from pandas->pandasql) (2021.1)\n",
      "Requirement already satisfied: six>=1.5 in d:\\users\\dayanef\\anaconda3\\lib\\site-packages (from python-dateutil>=2.7.3->pandas->pandasql) (1.15.0)\n",
      "Requirement already satisfied: greenlet!=0.4.17 in d:\\users\\dayanef\\anaconda3\\lib\\site-packages (from sqlalchemy->pandasql) (1.0.0)\n",
      "Note: you may need to restart the kernel to use updated packages.\n"
     ]
    }
   ],
   "source": [
    "pip install -U pandasql"
   ]
  },
  {
   "cell_type": "code",
   "execution_count": null,
   "id": "5535cd8f",
   "metadata": {},
   "outputs": [],
   "source": [
    "#read excel file"
   ]
  },
  {
   "cell_type": "code",
   "execution_count": 4,
   "id": "34b30bad",
   "metadata": {},
   "outputs": [],
   "source": [
    "file_csv = pd.read_excel(r\"D:\\Users\\dayanef\\Downloads\\Sales of oil derivative fuels by UF and product.xlsx\")"
   ]
  },
  {
   "cell_type": "code",
   "execution_count": null,
   "id": "497bf1ec",
   "metadata": {},
   "outputs": [],
   "source": [
    "#create dataframe to convert UF"
   ]
  },
  {
   "cell_type": "code",
   "execution_count": 5,
   "id": "9393afcc",
   "metadata": {},
   "outputs": [],
   "source": [
    "siglas_uf = pd.DataFrame(data=np.array([['AC', 'ACRE'], ['AL', 'ALAGOAS'], ['AP', 'AMAPÁ'], ['AM', 'AMAZONAS'], ['BA', 'BAHIA'], ['CE', 'CEARÁ'], ['DF', 'DISTRITO FEDERAL'], ['ES', 'ESPÍRITO SANTO'], ['GO', 'GOIÁS'], ['MA', 'MARANHÃO'], ['MT', 'MATO GROSSO'], ['MS', 'MATO GROSSO DO SUL'], ['MG', 'MINAS GERAIS'], ['PA', 'PARÁ'], ['PB', 'PARAÍBA'], ['PR', 'PARANÁ'], ['PE', 'PERNAMBUCO'], ['PI', 'PIAUÍ'], ['RJ', 'RIO DE JANEIRO'], ['RN', 'RIO GRANDE DO NORTE'], ['RS', 'RIO GRANDE DO SUL'], ['RO', 'RONDÔNIA'], ['RR', 'RORAIMA'], ['SC', 'SANTA CATARINA'], ['SP', 'SÃO PAULO'], ['SE', 'SERGIPE'], ['TO', 'TOCANTINS']]),columns=['UF', 'ESTADO'])"
   ]
  },
  {
   "cell_type": "code",
   "execution_count": null,
   "id": "9ec44775",
   "metadata": {},
   "outputs": [],
   "source": [
    "#create dataframe using excel file"
   ]
  },
  {
   "cell_type": "code",
   "execution_count": 8,
   "id": "57b9d360",
   "metadata": {},
   "outputs": [],
   "source": [
    "df = ps.sqldf(\"\"\"\n",
    "        SELECT year_month,\n",
    "               UF as uf,\n",
    "               product,\n",
    "               unit,\n",
    "               volume,  \n",
    "               created_at\n",
    "        FROM (\n",
    "            SELECT      ANO || \"-01\" as year_month,\n",
    "                        ESTADO, \n",
    "                        COMBUSTÍVEL as product,\n",
    "                        UNIDADE as unit,\n",
    "                        Jan as volume,\n",
    "                        CURRENT_TIMESTAMP as created_at\n",
    "            FROM file_csv\n",
    "                       \n",
    "            UNION ALL\n",
    "            \n",
    "            SELECT      ANO || \"-02\" as year_month,\n",
    "                        ESTADO, \n",
    "                        COMBUSTÍVEL as product,\n",
    "                        UNIDADE as unit,\n",
    "                        Fev as volume,\n",
    "                        CURRENT_TIMESTAMP as created_at\n",
    "            FROM file_csv  \n",
    "                        \n",
    "            UNION ALL\n",
    "            \n",
    "            SELECT      ANO || \"-03\" as year_month,\n",
    "                        ESTADO, \n",
    "                        COMBUSTÍVEL as product,\n",
    "                        UNIDADE as unit,\n",
    "                        Mar as volume,\n",
    "                        CURRENT_TIMESTAMP as created_at\n",
    "            FROM file_csv                         \n",
    "            \n",
    "            UNION ALL\n",
    "            \n",
    "            SELECT      ANO || \"-04\" as year_month,\n",
    "                        ESTADO,  \n",
    "                        COMBUSTÍVEL as product,\n",
    "                        UNIDADE as unit,\n",
    "                        Abr as volume,\n",
    "                        CURRENT_TIMESTAMP as created_at\n",
    "            FROM file_csv                        \n",
    "            \n",
    "            UNION ALL\n",
    "            \n",
    "            SELECT      ANO || \"-05\" as year_month,\n",
    "                        ESTADO, \n",
    "                        COMBUSTÍVEL as product,\n",
    "                        UNIDADE as unit,\n",
    "                        Mai as volume,\n",
    "                        CURRENT_TIMESTAMP as created_at\n",
    "            FROM file_csv                         \n",
    "            \n",
    "            UNION ALL\n",
    "            \n",
    "            SELECT      ANO || \"-06\" as year_month,\n",
    "                        ESTADO, \n",
    "                        COMBUSTÍVEL as product,\n",
    "                        UNIDADE as unit,\n",
    "                        Jun as volume,\n",
    "                        CURRENT_TIMESTAMP as created_at\n",
    "            FROM file_csv                         \n",
    "            \n",
    "            UNION ALL\n",
    "            \n",
    "            SELECT      ANO || \"-07\" as year_month,\n",
    "                        ESTADO, \n",
    "                        COMBUSTÍVEL as product,\n",
    "                        UNIDADE as unit,\n",
    "                        Jul as volume,\n",
    "                        CURRENT_TIMESTAMP as created_at\n",
    "            FROM file_csv                         \n",
    "            \n",
    "            UNION ALL\n",
    "            \n",
    "            SELECT      ANO || \"-08\" as year_month,\n",
    "                        ESTADO, \n",
    "                        COMBUSTÍVEL as product,\n",
    "                        UNIDADE as unit,\n",
    "                        Ago as volume,\n",
    "                        CURRENT_TIMESTAMP as created_at\n",
    "            FROM file_csv                        \n",
    "            \n",
    "            UNION ALL\n",
    "            \n",
    "            SELECT      ANO || \"-09\" as year_month,\n",
    "                        ESTADO, \n",
    "                        COMBUSTÍVEL as product,\n",
    "                        UNIDADE as unit,\n",
    "                        [Set] as volume,\n",
    "                        CURRENT_TIMESTAMP as created_at\n",
    "            FROM file_csv            \n",
    "             UNION ALL\n",
    "            \n",
    "            SELECT      ANO || \"-10\" as year_month,\n",
    "                        ESTADO, \n",
    "                        COMBUSTÍVEL as product,\n",
    "                        UNIDADE as unit,\n",
    "                        Out as volume,\n",
    "                        CURRENT_TIMESTAMP as created_at\n",
    "            FROM file_csv                        \n",
    "            \n",
    "            UNION ALL\n",
    "            \n",
    "            SELECT      ANO || \"-11\" as year_month,\n",
    "                        ESTADO, \n",
    "                        COMBUSTÍVEL as product,\n",
    "                        UNIDADE as unit,\n",
    "                        Nov as volume,\n",
    "                        CURRENT_TIMESTAMP as created_at\n",
    "            FROM file_csv                         \n",
    "            \n",
    "            UNION ALL\n",
    "            \n",
    "            SELECT      ANO || \"-12\" as year_month,\n",
    "                        ESTADO,  \n",
    "                        COMBUSTÍVEL as product,\n",
    "                        UNIDADE as unit,\n",
    "                        Dez as volume,\n",
    "                        CURRENT_TIMESTAMP as created_at\n",
    "            FROM file_csv ) A\n",
    "            LEFT JOIN siglas_uf B\n",
    "                 ON A.ESTADO = B.ESTADO \"\"\")  "
   ]
  },
  {
   "cell_type": "code",
   "execution_count": null,
   "id": "0d623eaf",
   "metadata": {},
   "outputs": [],
   "source": [
    "#save the staging table"
   ]
  },
  {
   "cell_type": "code",
   "execution_count": null,
   "id": "912c3e9c",
   "metadata": {},
   "outputs": [],
   "source": [
    "jdbcUrl = 'jdbc:sqlserver://xxxx;database=xxxx;user=xxxx;password=xxxx;encrypt=true;trustServerCertificate=false;hostNameInCertificate=xxx;loginTimeout=60;'\n",
    "  \n",
    "df.write\\\n",
    "  .format(\"jdbc\")\\\n",
    "  .mode(\"overwrite\")\\\n",
    "  .option(\"url\", jdbcUrl)\\\n",
    "  .option(\"dbtable\", \"staging.anp\")\\\n",
    "  .save()"
   ]
  },
  {
   "cell_type": "code",
   "execution_count": null,
   "id": "fb3ef083",
   "metadata": {},
   "outputs": [],
   "source": [
    "#check data consistent"
   ]
  },
  {
   "cell_type": "code",
   "execution_count": 19,
   "id": "2c099f71",
   "metadata": {},
   "outputs": [
    {
     "data": {
      "text/plain": [
       "year_month    54432\n",
       "uf            54432\n",
       "product       54432\n",
       "unit          54432\n",
       "volume        53784\n",
       "created_at    54432\n",
       "dtype: int64"
      ]
     },
     "execution_count": 19,
     "metadata": {},
     "output_type": "execute_result"
    }
   ],
   "source": [
    "df.count()"
   ]
  },
  {
   "cell_type": "code",
   "execution_count": 20,
   "id": "6cd5d18e",
   "metadata": {},
   "outputs": [
    {
     "data": {
      "text/html": [
       "<div>\n",
       "<style scoped>\n",
       "    .dataframe tbody tr th:only-of-type {\n",
       "        vertical-align: middle;\n",
       "    }\n",
       "\n",
       "    .dataframe tbody tr th {\n",
       "        vertical-align: top;\n",
       "    }\n",
       "\n",
       "    .dataframe thead th {\n",
       "        text-align: right;\n",
       "    }\n",
       "</style>\n",
       "<table border=\"1\" class=\"dataframe\">\n",
       "  <thead>\n",
       "    <tr style=\"text-align: right;\">\n",
       "      <th></th>\n",
       "      <th>volume</th>\n",
       "    </tr>\n",
       "  </thead>\n",
       "  <tbody>\n",
       "    <tr>\n",
       "      <th>count</th>\n",
       "      <td>5.378400e+04</td>\n",
       "    </tr>\n",
       "    <tr>\n",
       "      <th>mean</th>\n",
       "      <td>4.405078e+04</td>\n",
       "    </tr>\n",
       "    <tr>\n",
       "      <th>std</th>\n",
       "      <td>1.081486e+05</td>\n",
       "    </tr>\n",
       "    <tr>\n",
       "      <th>min</th>\n",
       "      <td>-5.676929e+01</td>\n",
       "    </tr>\n",
       "    <tr>\n",
       "      <th>25%</th>\n",
       "      <td>2.271735e+02</td>\n",
       "    </tr>\n",
       "    <tr>\n",
       "      <th>50%</th>\n",
       "      <td>7.282268e+03</td>\n",
       "    </tr>\n",
       "    <tr>\n",
       "      <th>75%</th>\n",
       "      <td>3.754650e+04</td>\n",
       "    </tr>\n",
       "    <tr>\n",
       "      <th>max</th>\n",
       "      <td>1.272781e+06</td>\n",
       "    </tr>\n",
       "  </tbody>\n",
       "</table>\n",
       "</div>"
      ],
      "text/plain": [
       "             volume\n",
       "count  5.378400e+04\n",
       "mean   4.405078e+04\n",
       "std    1.081486e+05\n",
       "min   -5.676929e+01\n",
       "25%    2.271735e+02\n",
       "50%    7.282268e+03\n",
       "75%    3.754650e+04\n",
       "max    1.272781e+06"
      ]
     },
     "execution_count": 20,
     "metadata": {},
     "output_type": "execute_result"
    }
   ],
   "source": [
    "df.describe()"
   ]
  },
  {
   "cell_type": "code",
   "execution_count": 27,
   "id": "977308aa",
   "metadata": {},
   "outputs": [
    {
     "name": "stdout",
     "output_type": "stream",
     "text": [
      "product     ETANOL HIDRATADO (m3)  GASOLINA C (m3)  GASOLINA DE AVIAÇÃO (m3)  \\\n",
      "year_month                                                                     \n",
      "2000-01                425187.481      1810572.096                  7615.609   \n",
      "2000-02                421706.408      1966364.759                  7931.369   \n",
      "2000-03                405266.215      1801197.989                  6133.995   \n",
      "2000-04                414609.690      1863561.899                  6130.738   \n",
      "2000-05                435214.558      1869175.737                  5377.796   \n",
      "...                           ...              ...                       ...   \n",
      "2020-08               1569803.325      2933072.544                  3143.874   \n",
      "2020-09               1700708.710      3127219.046                  3615.013   \n",
      "2020-10                     0.000            0.000                     0.000   \n",
      "2020-11                     0.000            0.000                     0.000   \n",
      "2020-12                     0.000            0.000                     0.000   \n",
      "\n",
      "product         GLP (m3)  QUEROSENE DE AVIAÇÃO (m3)  \\\n",
      "year_month                                            \n",
      "2000-01     9.500825e+05                 363518.414   \n",
      "2000-02     9.775822e+05                 342379.950   \n",
      "2000-03     1.072149e+06                 351383.843   \n",
      "2000-04     1.032596e+06                 334955.550   \n",
      "2000-05     1.115789e+06                 352383.205   \n",
      "...                  ...                        ...   \n",
      "2020-08     1.196802e+06                 195708.950   \n",
      "2020-09     1.138969e+06                 230503.484   \n",
      "2020-10     0.000000e+00                      0.000   \n",
      "2020-11     0.000000e+00                      0.000   \n",
      "2020-12     0.000000e+00                      0.000   \n",
      "\n",
      "product     QUEROSENE ILUMINANTE (m3)  ÓLEO COMBUSTÍVEL (m3)  ÓLEO DIESEL (m3)  \n",
      "year_month                                                                      \n",
      "2000-01                     17346.474          857972.900000       2562814.939  \n",
      "2000-02                     15896.540          833109.517347       2851462.374  \n",
      "2000-03                      9297.861          909600.184694       2795766.194  \n",
      "2000-04                     10004.148          770166.972449       2850547.888  \n",
      "2000-05                     11322.572          811013.456122       2917605.671  \n",
      "...                               ...                    ...               ...  \n",
      "2020-08                       384.600          144914.904000       5164439.187  \n",
      "2020-09                       405.400          115833.093000       5237175.795  \n",
      "2020-10                         0.000               0.000000             0.000  \n",
      "2020-11                         0.000               0.000000             0.000  \n",
      "2020-12                         0.000               0.000000             0.000  \n",
      "\n",
      "[252 rows x 8 columns]\n"
     ]
    }
   ],
   "source": [
    "table = pd.pivot_table (df, index = \"year_month\", columns = \"product\", values = \"volume\", aggfunc = \"sum\")\n",
    "print(table)"
   ]
  }
 ],
 "metadata": {
  "kernelspec": {
   "display_name": "Python 3",
   "language": "python",
   "name": "python3"
  },
  "language_info": {
   "codemirror_mode": {
    "name": "ipython",
    "version": 3
   },
   "file_extension": ".py",
   "mimetype": "text/x-python",
   "name": "python",
   "nbconvert_exporter": "python",
   "pygments_lexer": "ipython3",
   "version": "3.8.8"
  }
 },
 "nbformat": 4,
 "nbformat_minor": 5
}
